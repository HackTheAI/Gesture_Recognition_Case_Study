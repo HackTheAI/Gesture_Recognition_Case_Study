{
 "cells": [
  {
   "cell_type": "markdown",
   "metadata": {},
   "source": [
    "# Gesture Recognition using Conv3D\n",
    "In this group project, you are going to build a 3D Conv model that will be able to predict the 5 gestures correctly. Please import the following libraries to get started. Once you have completed the code you can download the notebook for making a submission."
   ]
  },
  {
   "cell_type": "code",
   "execution_count": 1,
   "metadata": {},
   "outputs": [],
   "source": [
    "import numpy as np\n",
    "import os\n",
    "from imageio import imread\n",
    "from skimage.transform import resize\n",
    "# from scipy.misc import imread, imresize\n",
    "import datetime\n",
    "import os"
   ]
  },
  {
   "cell_type": "markdown",
   "metadata": {},
   "source": [
    "We set the random seed so that the results don't vary drastically."
   ]
  },
  {
   "cell_type": "code",
   "execution_count": 2,
   "metadata": {},
   "outputs": [],
   "source": [
    "np.random.seed(30)\n",
    "import random as rn\n",
    "rn.seed(30)\n",
    "from tensorflow import keras\n",
    "import tensorflow as tf\n",
    "tf.random.set_seed(30)"
   ]
  },
  {
   "cell_type": "markdown",
   "metadata": {},
   "source": [
    "In this block, you read the folder names for training and validation. You also set the `batch_size` here. Note that you set the batch size in such a way that you are able to use the GPU in full capacity. You keep increasing the batch size until the machine throws an error."
   ]
  },
  {
   "cell_type": "markdown",
   "metadata": {},
   "source": [
    "**data path: /home/datasets/Project_data**"
   ]
  },
  {
   "cell_type": "code",
   "execution_count": 3,
   "metadata": {},
   "outputs": [],
   "source": [
    "train_doc = np.random.permutation(open('/home/datasets/Project_data/train.csv').readlines())\n",
    "val_doc = np.random.permutation(open('/home/datasets/Project_data/val.csv').readlines())\n",
    "batch_size = 64#experiment with the batch size"
   ]
  },
  {
   "cell_type": "markdown",
   "metadata": {},
   "source": [
    "## Generator\n",
    "This is one of the most important part of the code. The overall structure of the generator has been given. In the generator, you are going to preprocess the images as you have images of 2 different dimensions as well as create a batch of video frames. You have to experiment with some of the parts of the generator function such that you get high accuracy."
   ]
  },
  {
   "cell_type": "code",
   "execution_count": 4,
   "metadata": {},
   "outputs": [],
   "source": [
    "def generator(source_path, folder_list, batch_size):\n",
    "    print( 'Source path = ', source_path, '; batch size =', batch_size)\n",
    "    img_idx = [0,1,2,4,6,8,10,12,14,16,18,20,22,24,26,27,28,29]\n",
    "    while True:\n",
    "        t = np.random.permutation(folder_list)\n",
    "        num_batches = int(len(t)/batch_size)\n",
    "        for batch in range(num_batches):\n",
    "            batch_data = np.zeros((batch_size,18,84,84,3))\n",
    "            batch_labels = np.zeros((batch_size,5))\n",
    "            for folder in range(batch_size):\n",
    "                imgs = os.listdir(source_path+'/'+ t[folder + (batch*batch_size)].split(';')[0])\n",
    "                for idx,item in enumerate(img_idx):\n",
    "                    image = imread(source_path+'/'+ t[folder + (batch*batch_size)].strip().split(';')[0]+'/'+imgs[item]).astype(np.float32)\n",
    "                    if image.shape[1] == 160:\n",
    "                        image = resize(image[:,20:140,:],(84,84)).astype(np.float32)\n",
    "                    else:\n",
    "                        image = resize(image,(84,84)).astype(np.float32)\n",
    "                    \n",
    "                    batch_data[folder,idx,:,:,0] = image[:,:,0] - 104\n",
    "                    batch_data[folder,idx,:,:,1] = image[:,:,1] - 117\n",
    "                    batch_data[folder,idx,:,:,2] = image[:,:,2] - 123\n",
    "                    \n",
    "                batch_labels[folder, int(t[folder + (batch*batch_size)].strip().split(';')[2])] = 1\n",
    "            yield batch_data, batch_labels\n",
    "\n",
    "        if (len(t)%batch_size) != 0:\n",
    "            batch_data = np.zeros((len(t)%batch_size,18,84,84,3))\n",
    "            batch_labels = np.zeros((len(t)%batch_size,5))\n",
    "            for folder in range(len(t)%batch_size):\n",
    "                imgs = os.listdir(source_path+'/'+ t[folder + (num_batches*batch_size)].split(';')[0])\n",
    "                for idx,item in enumerate(img_idx):\n",
    "                    image = imread(source_path+'/'+ t[folder + (num_batches*batch_size)].strip().split(';')[0]+'/'+imgs[item]).astype(np.float32)\n",
    "                    if image.shape[1] == 160:\n",
    "                        image = resize(image[:,20:140,:],(84,84)).astype(np.float32)\n",
    "                    else:\n",
    "                        image = resize(image,(84,84)).astype(np.float32)\n",
    "\n",
    "                    batch_data[folder,idx,:,:,0] = image[:,:,0] - 104\n",
    "                    batch_data[folder,idx,:,:,1] = image[:,:,1] - 117\n",
    "                    batch_data[folder,idx,:,:,2] = image[:,:,2] - 123\n",
    "\n",
    "                batch_labels[folder, int(t[folder + (num_batches*batch_size)].strip().split(';')[2])] = 1\n",
    "\n",
    "            yield batch_data, batch_labels"
   ]
  },
  {
   "cell_type": "markdown",
   "metadata": {},
   "source": [
    "Note here that a video is represented above in the generator as (number of images, height, width, number of channels). Take this into consideration while creating the model architecture."
   ]
  },
  {
   "cell_type": "code",
   "execution_count": 5,
   "metadata": {},
   "outputs": [
    {
     "name": "stdout",
     "output_type": "stream",
     "text": [
      "# training sequences = 663\n",
      "# validation sequences = 100\n",
      "# epochs = 30\n"
     ]
    }
   ],
   "source": [
    "curr_dt_time = datetime.datetime.now()\n",
    "train_path = '/home/datasets/Project_data/train'\n",
    "val_path = '/home/datasets/Project_data/val'\n",
    "num_train_sequences = len(train_doc)\n",
    "print('# training sequences =', num_train_sequences)\n",
    "num_val_sequences = len(val_doc)\n",
    "print('# validation sequences =', num_val_sequences)\n",
    "num_epochs = 30# choose the number of epochs\n",
    "print ('# epochs =', num_epochs)"
   ]
  },
  {
   "cell_type": "markdown",
   "metadata": {},
   "source": [
    "## Model\n",
    "Here you make the model using different functionalities that Keras provides. Remember to use `Conv3D` and `MaxPooling3D` and not `Conv2D` and `Maxpooling2D`. Also remember that the last layer is the softmax. Remember that the network is designed in such a way that the model is able to fit in the memory of the webcam."
   ]
  },
  {
   "cell_type": "code",
   "execution_count": 6,
   "metadata": {},
   "outputs": [
    {
     "name": "stderr",
     "output_type": "stream",
     "text": [
      "2023-01-09 16:31:32.826197: W tensorflow/core/common_runtime/gpu/gpu_bfc_allocator.cc:39] Overriding allow_growth setting because the TF_FORCE_GPU_ALLOW_GROWTH environment variable is set. Original config value was 0.\n",
      "2023-01-09 16:31:32.826260: I tensorflow/core/common_runtime/gpu/gpu_device.cc:1525] Created device /job:localhost/replica:0/task:0/device:GPU:0 with 14802 MB memory:  -> device: 0, name: Quadro RTX 5000, pci bus id: 0000:1e:00.0, compute capability: 7.5\n"
     ]
    }
   ],
   "source": [
    "from keras.models import Sequential\n",
    "from keras.layers import Dense, GRU, Dropout, Flatten, BatchNormalization, Activation\n",
    "from keras.layers.convolutional import Conv3D, MaxPooling3D\n",
    "from keras.callbacks import ModelCheckpoint, ReduceLROnPlateau\n",
    "from tensorflow.keras import optimizers\n",
    "\n",
    "model = Sequential()\n",
    "model.add(Conv3D(64, (3,3,3), strides=(1,1,1), padding='same', input_shape=(18,84,84,3)))\n",
    "model.add(BatchNormalization())\n",
    "model.add(Activation('elu'))\n",
    "model.add(MaxPooling3D(pool_size=(2,2,1), strides=(2,2,1)))\n",
    "\n",
    "model.add(Conv3D(128, (3,3,3), strides=(1,1,1), padding='same'))\n",
    "model.add(BatchNormalization())\n",
    "model.add(Activation('elu'))\n",
    "model.add(MaxPooling3D(pool_size=(2,2,2), strides=(2,2,2)))\n",
    "\n",
    "model.add(Dropout(0.25))\n",
    "\n",
    "model.add(Conv3D(256, (3,3,3), strides=(1,1,1), padding='same'))\n",
    "model.add(BatchNormalization())\n",
    "model.add(Activation('elu'))\n",
    "model.add(MaxPooling3D(pool_size=(2,2,2), strides=(2,2,2)))\n",
    "\n",
    "model.add(Dropout(0.25))\n",
    "\n",
    "model.add(Conv3D(256, (3,3,3), strides=(1,1,1), padding='same'))\n",
    "model.add(BatchNormalization())\n",
    "model.add(Activation('elu'))\n",
    "model.add(MaxPooling3D(pool_size=(2,2,2), strides=(2,2,2)))\n",
    "\n",
    "model.add(Flatten())\n",
    "model.add(Dropout(0.2))\n",
    "model.add(Dense(512, activation='elu'))\n",
    "model.add(Dropout(0.5))\n",
    "model.add(Dense(5, activation='softmax'))"
   ]
  },
  {
   "cell_type": "markdown",
   "metadata": {},
   "source": [
    "Now that you have written the model, the next step is to `compile` the model. When you print the `summary` of the model, you'll see the total number of parameters you have to train."
   ]
  },
  {
   "cell_type": "code",
   "execution_count": 7,
   "metadata": {
    "scrolled": true
   },
   "outputs": [
    {
     "name": "stdout",
     "output_type": "stream",
     "text": [
      "Model: \"sequential\"\n",
      "_________________________________________________________________\n",
      " Layer (type)                Output Shape              Param #   \n",
      "=================================================================\n",
      " conv3d (Conv3D)             (None, 18, 84, 84, 64)    5248      \n",
      "                                                                 \n",
      " batch_normalization (BatchN  (None, 18, 84, 84, 64)   256       \n",
      " ormalization)                                                   \n",
      "                                                                 \n",
      " activation (Activation)     (None, 18, 84, 84, 64)    0         \n",
      "                                                                 \n",
      " max_pooling3d (MaxPooling3D  (None, 9, 42, 84, 64)    0         \n",
      " )                                                               \n",
      "                                                                 \n",
      " conv3d_1 (Conv3D)           (None, 9, 42, 84, 128)    221312    \n",
      "                                                                 \n",
      " batch_normalization_1 (Batc  (None, 9, 42, 84, 128)   512       \n",
      " hNormalization)                                                 \n",
      "                                                                 \n",
      " activation_1 (Activation)   (None, 9, 42, 84, 128)    0         \n",
      "                                                                 \n",
      " max_pooling3d_1 (MaxPooling  (None, 4, 21, 42, 128)   0         \n",
      " 3D)                                                             \n",
      "                                                                 \n",
      " dropout (Dropout)           (None, 4, 21, 42, 128)    0         \n",
      "                                                                 \n",
      " conv3d_2 (Conv3D)           (None, 4, 21, 42, 256)    884992    \n",
      "                                                                 \n",
      " batch_normalization_2 (Batc  (None, 4, 21, 42, 256)   1024      \n",
      " hNormalization)                                                 \n",
      "                                                                 \n",
      " activation_2 (Activation)   (None, 4, 21, 42, 256)    0         \n",
      "                                                                 \n",
      " max_pooling3d_2 (MaxPooling  (None, 2, 10, 21, 256)   0         \n",
      " 3D)                                                             \n",
      "                                                                 \n",
      " dropout_1 (Dropout)         (None, 2, 10, 21, 256)    0         \n",
      "                                                                 \n",
      " conv3d_3 (Conv3D)           (None, 2, 10, 21, 256)    1769728   \n",
      "                                                                 \n",
      " batch_normalization_3 (Batc  (None, 2, 10, 21, 256)   1024      \n",
      " hNormalization)                                                 \n",
      "                                                                 \n",
      " activation_3 (Activation)   (None, 2, 10, 21, 256)    0         \n",
      "                                                                 \n",
      " max_pooling3d_3 (MaxPooling  (None, 1, 5, 10, 256)    0         \n",
      " 3D)                                                             \n",
      "                                                                 \n",
      " flatten (Flatten)           (None, 12800)             0         \n",
      "                                                                 \n",
      " dropout_2 (Dropout)         (None, 12800)             0         \n",
      "                                                                 \n",
      " dense (Dense)               (None, 512)               6554112   \n",
      "                                                                 \n",
      " dropout_3 (Dropout)         (None, 512)               0         \n",
      "                                                                 \n",
      " dense_1 (Dense)             (None, 5)                 2565      \n",
      "                                                                 \n",
      "=================================================================\n",
      "Total params: 9,440,773\n",
      "Trainable params: 9,439,365\n",
      "Non-trainable params: 1,408\n",
      "_________________________________________________________________\n",
      "None\n"
     ]
    },
    {
     "name": "stderr",
     "output_type": "stream",
     "text": [
      "/usr/local/lib/python3.8/dist-packages/keras/optimizer_v2/gradient_descent.py:102: UserWarning: The `lr` argument is deprecated, use `learning_rate` instead.\n",
      "  super(SGD, self).__init__(name, **kwargs)\n"
     ]
    }
   ],
   "source": [
    "optimiser = optimizers.SGD(lr=0.001, decay=1e-6, momentum=0.7, nesterov=True) #write your optimizer\n",
    "model.compile(optimizer=optimiser, loss='categorical_crossentropy', metrics=['categorical_accuracy'])\n",
    "print (model.summary())"
   ]
  },
  {
   "cell_type": "markdown",
   "metadata": {},
   "source": [
    "Let us create the `train_generator` and the `val_generator` which will be used in `.fit_generator`."
   ]
  },
  {
   "cell_type": "code",
   "execution_count": 8,
   "metadata": {},
   "outputs": [],
   "source": [
    "train_generator = generator(train_path, train_doc, batch_size)\n",
    "val_generator = generator(val_path, val_doc, batch_size)"
   ]
  },
  {
   "cell_type": "code",
   "execution_count": 9,
   "metadata": {},
   "outputs": [
    {
     "name": "stdout",
     "output_type": "stream",
     "text": [
      "WARNING:tensorflow:`epsilon` argument is deprecated and will be removed, use `min_delta` instead.\n"
     ]
    }
   ],
   "source": [
    "model_name = 'model_init_conv3d' + '_' + str(curr_dt_time).replace(' ','').replace(':','_') + '/'\n",
    "    \n",
    "if not os.path.exists(model_name):\n",
    "    os.mkdir(model_name)\n",
    "        \n",
    "filepath = model_name + 'model-epoch_{epoch:05d}-loss_{loss:.2f}-categorical_accuracy_{categorical_accuracy:.2f}-val_loss_{val_loss:.2f}-val_categorical_accuracy_{val_categorical_accuracy:.2f}.h5'\n",
    "\n",
    "checkpoint = ModelCheckpoint(filepath, monitor='val_loss', verbose=1, save_best_only=False, save_weights_only=False, mode='auto',save_freq = 'epoch')\n",
    "\n",
    "LR = ReduceLROnPlateau(monitor='val_loss', factor=0.5, patience=2, verbose=1, mode='min', epsilon=0.0001, cooldown=0, min_lr=0.00001) # write the REducelronplateau code here\n",
    "callbacks_list = [checkpoint, LR]\n",
    "#callbacks_list = [logs]"
   ]
  },
  {
   "cell_type": "markdown",
   "metadata": {},
   "source": [
    "The `steps_per_epoch` and `validation_steps` are used by `fit` method to decide the number of next() calls it need to make."
   ]
  },
  {
   "cell_type": "code",
   "execution_count": 10,
   "metadata": {},
   "outputs": [],
   "source": [
    "if (num_train_sequences%batch_size) == 0:\n",
    "    steps_per_epoch = int(num_train_sequences/batch_size)\n",
    "else:\n",
    "    steps_per_epoch = (num_train_sequences//batch_size) + 1\n",
    "\n",
    "if (num_val_sequences%batch_size) == 0:\n",
    "    validation_steps = int(num_val_sequences/batch_size)\n",
    "else:\n",
    "    validation_steps = (num_val_sequences//batch_size) + 1"
   ]
  },
  {
   "cell_type": "markdown",
   "metadata": {},
   "source": [
    "Let us now fit the model. This will start training the model and with the help of the checkpoints, you'll be able to save the model at the end of each epoch."
   ]
  },
  {
   "cell_type": "code",
   "execution_count": 11,
   "metadata": {},
   "outputs": [
    {
     "name": "stdout",
     "output_type": "stream",
     "text": [
      "Source path =  /home/datasets/Project_data/train ; batch size = 64\n",
      "Epoch 1/30\n"
     ]
    },
    {
     "name": "stderr",
     "output_type": "stream",
     "text": [
      "2023-01-09 16:31:42.824941: I tensorflow/stream_executor/cuda/cuda_dnn.cc:377] Loaded cuDNN version 8302\n"
     ]
    },
    {
     "name": "stdout",
     "output_type": "stream",
     "text": [
      "11/11 [==============================] - ETA: 0s - loss: 5.4120 - categorical_accuracy: 0.2609Source path =  /home/datasets/Project_data/val ; batch size = 64\n",
      "\n",
      "Epoch 00001: saving model to model_init_conv3d_2023-01-0916_31_32.003741/model-epoch_00001-loss_5.41-categorical_accuracy_0.26-val_loss_7.94-val_categorical_accuracy_0.23.h5\n",
      "11/11 [==============================] - 104s 9s/step - loss: 5.4120 - categorical_accuracy: 0.2609 - val_loss: 7.9450 - val_categorical_accuracy: 0.2300 - lr: 0.0010\n",
      "Epoch 2/30\n",
      "11/11 [==============================] - ETA: 0s - loss: 1.7928 - categorical_accuracy: 0.4253\n",
      "Epoch 00002: saving model to model_init_conv3d_2023-01-0916_31_32.003741/model-epoch_00002-loss_1.79-categorical_accuracy_0.43-val_loss_6.15-val_categorical_accuracy_0.18.h5\n",
      "11/11 [==============================] - 98s 10s/step - loss: 1.7928 - categorical_accuracy: 0.4253 - val_loss: 6.1460 - val_categorical_accuracy: 0.1800 - lr: 0.0010\n",
      "Epoch 3/30\n",
      "11/11 [==============================] - ETA: 0s - loss: 1.5261 - categorical_accuracy: 0.4751\n",
      "Epoch 00003: saving model to model_init_conv3d_2023-01-0916_31_32.003741/model-epoch_00003-loss_1.53-categorical_accuracy_0.48-val_loss_5.35-val_categorical_accuracy_0.23.h5\n",
      "11/11 [==============================] - 99s 10s/step - loss: 1.5261 - categorical_accuracy: 0.4751 - val_loss: 5.3457 - val_categorical_accuracy: 0.2300 - lr: 0.0010\n",
      "Epoch 4/30\n",
      "11/11 [==============================] - ETA: 0s - loss: 1.1939 - categorical_accuracy: 0.5656\n",
      "Epoch 00004: saving model to model_init_conv3d_2023-01-0916_31_32.003741/model-epoch_00004-loss_1.19-categorical_accuracy_0.57-val_loss_4.45-val_categorical_accuracy_0.30.h5\n",
      "11/11 [==============================] - 96s 9s/step - loss: 1.1939 - categorical_accuracy: 0.5656 - val_loss: 4.4539 - val_categorical_accuracy: 0.3000 - lr: 0.0010\n",
      "Epoch 5/30\n",
      "11/11 [==============================] - ETA: 0s - loss: 1.1933 - categorical_accuracy: 0.5701\n",
      "Epoch 00005: saving model to model_init_conv3d_2023-01-0916_31_32.003741/model-epoch_00005-loss_1.19-categorical_accuracy_0.57-val_loss_4.47-val_categorical_accuracy_0.25.h5\n",
      "11/11 [==============================] - 100s 10s/step - loss: 1.1933 - categorical_accuracy: 0.5701 - val_loss: 4.4698 - val_categorical_accuracy: 0.2500 - lr: 0.0010\n",
      "Epoch 6/30\n",
      "11/11 [==============================] - ETA: 0s - loss: 1.1203 - categorical_accuracy: 0.6048\n",
      "Epoch 00006: saving model to model_init_conv3d_2023-01-0916_31_32.003741/model-epoch_00006-loss_1.12-categorical_accuracy_0.60-val_loss_4.11-val_categorical_accuracy_0.22.h5\n",
      "11/11 [==============================] - 95s 9s/step - loss: 1.1203 - categorical_accuracy: 0.6048 - val_loss: 4.1062 - val_categorical_accuracy: 0.2200 - lr: 0.0010\n",
      "Epoch 7/30\n",
      "11/11 [==============================] - ETA: 0s - loss: 1.0603 - categorical_accuracy: 0.6244\n",
      "Epoch 00007: saving model to model_init_conv3d_2023-01-0916_31_32.003741/model-epoch_00007-loss_1.06-categorical_accuracy_0.62-val_loss_2.64-val_categorical_accuracy_0.39.h5\n",
      "11/11 [==============================] - 98s 10s/step - loss: 1.0603 - categorical_accuracy: 0.6244 - val_loss: 2.6441 - val_categorical_accuracy: 0.3900 - lr: 0.0010\n",
      "Epoch 8/30\n",
      "11/11 [==============================] - ETA: 0s - loss: 0.9201 - categorical_accuracy: 0.6787\n",
      "Epoch 00008: saving model to model_init_conv3d_2023-01-0916_31_32.003741/model-epoch_00008-loss_0.92-categorical_accuracy_0.68-val_loss_1.79-val_categorical_accuracy_0.49.h5\n",
      "11/11 [==============================] - 95s 9s/step - loss: 0.9201 - categorical_accuracy: 0.6787 - val_loss: 1.7928 - val_categorical_accuracy: 0.4900 - lr: 0.0010\n",
      "Epoch 9/30\n",
      "11/11 [==============================] - ETA: 0s - loss: 0.8361 - categorical_accuracy: 0.6953\n",
      "Epoch 00009: saving model to model_init_conv3d_2023-01-0916_31_32.003741/model-epoch_00009-loss_0.84-categorical_accuracy_0.70-val_loss_1.90-val_categorical_accuracy_0.45.h5\n",
      "11/11 [==============================] - 99s 10s/step - loss: 0.8361 - categorical_accuracy: 0.6953 - val_loss: 1.8951 - val_categorical_accuracy: 0.4500 - lr: 0.0010\n",
      "Epoch 10/30\n",
      "11/11 [==============================] - ETA: 0s - loss: 0.7736 - categorical_accuracy: 0.7134\n",
      "Epoch 00010: saving model to model_init_conv3d_2023-01-0916_31_32.003741/model-epoch_00010-loss_0.77-categorical_accuracy_0.71-val_loss_1.64-val_categorical_accuracy_0.49.h5\n",
      "11/11 [==============================] - 95s 9s/step - loss: 0.7736 - categorical_accuracy: 0.7134 - val_loss: 1.6428 - val_categorical_accuracy: 0.4900 - lr: 0.0010\n",
      "Epoch 11/30\n",
      "11/11 [==============================] - ETA: 0s - loss: 0.7463 - categorical_accuracy: 0.7270\n",
      "Epoch 00011: saving model to model_init_conv3d_2023-01-0916_31_32.003741/model-epoch_00011-loss_0.75-categorical_accuracy_0.73-val_loss_1.02-val_categorical_accuracy_0.63.h5\n",
      "11/11 [==============================] - 99s 10s/step - loss: 0.7463 - categorical_accuracy: 0.7270 - val_loss: 1.0186 - val_categorical_accuracy: 0.6300 - lr: 0.0010\n",
      "Epoch 12/30\n",
      "11/11 [==============================] - ETA: 0s - loss: 0.7020 - categorical_accuracy: 0.7406\n",
      "Epoch 00012: saving model to model_init_conv3d_2023-01-0916_31_32.003741/model-epoch_00012-loss_0.70-categorical_accuracy_0.74-val_loss_0.88-val_categorical_accuracy_0.68.h5\n",
      "11/11 [==============================] - 95s 9s/step - loss: 0.7020 - categorical_accuracy: 0.7406 - val_loss: 0.8836 - val_categorical_accuracy: 0.6800 - lr: 0.0010\n",
      "Epoch 13/30\n",
      "11/11 [==============================] - ETA: 0s - loss: 0.6514 - categorical_accuracy: 0.7662\n",
      "Epoch 00013: saving model to model_init_conv3d_2023-01-0916_31_32.003741/model-epoch_00013-loss_0.65-categorical_accuracy_0.77-val_loss_0.69-val_categorical_accuracy_0.73.h5\n",
      "11/11 [==============================] - 100s 10s/step - loss: 0.6514 - categorical_accuracy: 0.7662 - val_loss: 0.6858 - val_categorical_accuracy: 0.7300 - lr: 0.0010\n",
      "Epoch 14/30\n",
      "11/11 [==============================] - ETA: 0s - loss: 0.6268 - categorical_accuracy: 0.7587\n",
      "Epoch 00014: saving model to model_init_conv3d_2023-01-0916_31_32.003741/model-epoch_00014-loss_0.63-categorical_accuracy_0.76-val_loss_0.52-val_categorical_accuracy_0.75.h5\n",
      "11/11 [==============================] - 94s 9s/step - loss: 0.6268 - categorical_accuracy: 0.7587 - val_loss: 0.5209 - val_categorical_accuracy: 0.7500 - lr: 0.0010\n",
      "Epoch 15/30\n",
      "11/11 [==============================] - ETA: 0s - loss: 0.5729 - categorical_accuracy: 0.7858\n",
      "Epoch 00015: saving model to model_init_conv3d_2023-01-0916_31_32.003741/model-epoch_00015-loss_0.57-categorical_accuracy_0.79-val_loss_0.64-val_categorical_accuracy_0.79.h5\n",
      "11/11 [==============================] - 96s 9s/step - loss: 0.5729 - categorical_accuracy: 0.7858 - val_loss: 0.6429 - val_categorical_accuracy: 0.7900 - lr: 0.0010\n",
      "Epoch 16/30\n",
      "11/11 [==============================] - ETA: 0s - loss: 0.5757 - categorical_accuracy: 0.7858\n",
      "Epoch 00016: saving model to model_init_conv3d_2023-01-0916_31_32.003741/model-epoch_00016-loss_0.58-categorical_accuracy_0.79-val_loss_0.77-val_categorical_accuracy_0.73.h5\n",
      "\n",
      "Epoch 00016: ReduceLROnPlateau reducing learning rate to 0.0005000000237487257.\n",
      "11/11 [==============================] - 92s 9s/step - loss: 0.5757 - categorical_accuracy: 0.7858 - val_loss: 0.7684 - val_categorical_accuracy: 0.7300 - lr: 0.0010\n",
      "Epoch 17/30\n",
      "11/11 [==============================] - ETA: 0s - loss: 0.5432 - categorical_accuracy: 0.7858\n",
      "Epoch 00017: saving model to model_init_conv3d_2023-01-0916_31_32.003741/model-epoch_00017-loss_0.54-categorical_accuracy_0.79-val_loss_0.67-val_categorical_accuracy_0.78.h5\n",
      "11/11 [==============================] - 95s 9s/step - loss: 0.5432 - categorical_accuracy: 0.7858 - val_loss: 0.6690 - val_categorical_accuracy: 0.7800 - lr: 5.0000e-04\n",
      "Epoch 18/30\n",
      "11/11 [==============================] - ETA: 0s - loss: 0.4567 - categorical_accuracy: 0.8145\n",
      "Epoch 00018: saving model to model_init_conv3d_2023-01-0916_31_32.003741/model-epoch_00018-loss_0.46-categorical_accuracy_0.81-val_loss_0.52-val_categorical_accuracy_0.81.h5\n",
      "11/11 [==============================] - 90s 9s/step - loss: 0.4567 - categorical_accuracy: 0.8145 - val_loss: 0.5194 - val_categorical_accuracy: 0.8100 - lr: 5.0000e-04\n",
      "Epoch 19/30\n",
      "11/11 [==============================] - ETA: 0s - loss: 0.4521 - categorical_accuracy: 0.8401\n",
      "Epoch 00019: saving model to model_init_conv3d_2023-01-0916_31_32.003741/model-epoch_00019-loss_0.45-categorical_accuracy_0.84-val_loss_0.62-val_categorical_accuracy_0.79.h5\n",
      "11/11 [==============================] - 101s 10s/step - loss: 0.4521 - categorical_accuracy: 0.8401 - val_loss: 0.6179 - val_categorical_accuracy: 0.7900 - lr: 5.0000e-04\n",
      "Epoch 20/30\n",
      "11/11 [==============================] - ETA: 0s - loss: 0.4582 - categorical_accuracy: 0.8311\n",
      "Epoch 00020: saving model to model_init_conv3d_2023-01-0916_31_32.003741/model-epoch_00020-loss_0.46-categorical_accuracy_0.83-val_loss_0.48-val_categorical_accuracy_0.80.h5\n",
      "11/11 [==============================] - 98s 10s/step - loss: 0.4582 - categorical_accuracy: 0.8311 - val_loss: 0.4833 - val_categorical_accuracy: 0.8000 - lr: 5.0000e-04\n",
      "Epoch 21/30\n",
      "11/11 [==============================] - ETA: 0s - loss: 0.4126 - categorical_accuracy: 0.8446\n",
      "Epoch 00021: saving model to model_init_conv3d_2023-01-0916_31_32.003741/model-epoch_00021-loss_0.41-categorical_accuracy_0.84-val_loss_0.63-val_categorical_accuracy_0.76.h5\n",
      "11/11 [==============================] - 101s 10s/step - loss: 0.4126 - categorical_accuracy: 0.8446 - val_loss: 0.6251 - val_categorical_accuracy: 0.7600 - lr: 5.0000e-04\n",
      "Epoch 22/30\n",
      "11/11 [==============================] - ETA: 0s - loss: 0.4106 - categorical_accuracy: 0.8462\n",
      "Epoch 00022: saving model to model_init_conv3d_2023-01-0916_31_32.003741/model-epoch_00022-loss_0.41-categorical_accuracy_0.85-val_loss_0.72-val_categorical_accuracy_0.79.h5\n",
      "\n",
      "Epoch 00022: ReduceLROnPlateau reducing learning rate to 0.0002500000118743628.\n",
      "11/11 [==============================] - 100s 10s/step - loss: 0.4106 - categorical_accuracy: 0.8462 - val_loss: 0.7230 - val_categorical_accuracy: 0.7900 - lr: 5.0000e-04\n",
      "Epoch 23/30\n",
      "11/11 [==============================] - ETA: 0s - loss: 0.3856 - categorical_accuracy: 0.8477\n",
      "Epoch 00023: saving model to model_init_conv3d_2023-01-0916_31_32.003741/model-epoch_00023-loss_0.39-categorical_accuracy_0.85-val_loss_0.70-val_categorical_accuracy_0.79.h5\n",
      "11/11 [==============================] - 104s 10s/step - loss: 0.3856 - categorical_accuracy: 0.8477 - val_loss: 0.7044 - val_categorical_accuracy: 0.7900 - lr: 2.5000e-04\n",
      "Epoch 24/30\n",
      "11/11 [==============================] - ETA: 0s - loss: 0.4143 - categorical_accuracy: 0.8612\n",
      "Epoch 00024: saving model to model_init_conv3d_2023-01-0916_31_32.003741/model-epoch_00024-loss_0.41-categorical_accuracy_0.86-val_loss_0.78-val_categorical_accuracy_0.71.h5\n",
      "\n",
      "Epoch 00024: ReduceLROnPlateau reducing learning rate to 0.0001250000059371814.\n",
      "11/11 [==============================] - 97s 10s/step - loss: 0.4143 - categorical_accuracy: 0.8612 - val_loss: 0.7840 - val_categorical_accuracy: 0.7100 - lr: 2.5000e-04\n",
      "Epoch 25/30\n",
      "11/11 [==============================] - ETA: 0s - loss: 0.4701 - categorical_accuracy: 0.8265\n",
      "Epoch 00025: saving model to model_init_conv3d_2023-01-0916_31_32.003741/model-epoch_00025-loss_0.47-categorical_accuracy_0.83-val_loss_0.70-val_categorical_accuracy_0.76.h5\n",
      "11/11 [==============================] - 102s 10s/step - loss: 0.4701 - categorical_accuracy: 0.8265 - val_loss: 0.7038 - val_categorical_accuracy: 0.7600 - lr: 1.2500e-04\n",
      "Epoch 26/30\n",
      "11/11 [==============================] - ETA: 0s - loss: 0.3125 - categorical_accuracy: 0.8808\n",
      "Epoch 00026: saving model to model_init_conv3d_2023-01-0916_31_32.003741/model-epoch_00026-loss_0.31-categorical_accuracy_0.88-val_loss_0.85-val_categorical_accuracy_0.72.h5\n",
      "\n",
      "Epoch 00026: ReduceLROnPlateau reducing learning rate to 6.25000029685907e-05.\n",
      "11/11 [==============================] - 99s 10s/step - loss: 0.3125 - categorical_accuracy: 0.8808 - val_loss: 0.8494 - val_categorical_accuracy: 0.7200 - lr: 1.2500e-04\n",
      "Epoch 27/30\n",
      "11/11 [==============================] - ETA: 0s - loss: 0.4182 - categorical_accuracy: 0.8356\n",
      "Epoch 00027: saving model to model_init_conv3d_2023-01-0916_31_32.003741/model-epoch_00027-loss_0.42-categorical_accuracy_0.84-val_loss_0.72-val_categorical_accuracy_0.77.h5\n",
      "11/11 [==============================] - 101s 10s/step - loss: 0.4182 - categorical_accuracy: 0.8356 - val_loss: 0.7220 - val_categorical_accuracy: 0.7700 - lr: 6.2500e-05\n",
      "Epoch 28/30\n",
      "11/11 [==============================] - ETA: 0s - loss: 0.3057 - categorical_accuracy: 0.8793\n",
      "Epoch 00028: saving model to model_init_conv3d_2023-01-0916_31_32.003741/model-epoch_00028-loss_0.31-categorical_accuracy_0.88-val_loss_0.83-val_categorical_accuracy_0.76.h5\n",
      "\n",
      "Epoch 00028: ReduceLROnPlateau reducing learning rate to 3.125000148429535e-05.\n",
      "11/11 [==============================] - 97s 10s/step - loss: 0.3057 - categorical_accuracy: 0.8793 - val_loss: 0.8266 - val_categorical_accuracy: 0.7600 - lr: 6.2500e-05\n",
      "Epoch 29/30\n",
      "11/11 [==============================] - ETA: 0s - loss: 0.3576 - categorical_accuracy: 0.8643\n",
      "Epoch 00029: saving model to model_init_conv3d_2023-01-0916_31_32.003741/model-epoch_00029-loss_0.36-categorical_accuracy_0.86-val_loss_0.74-val_categorical_accuracy_0.78.h5\n",
      "11/11 [==============================] - 96s 10s/step - loss: 0.3576 - categorical_accuracy: 0.8643 - val_loss: 0.7417 - val_categorical_accuracy: 0.7800 - lr: 3.1250e-05\n",
      "Epoch 30/30\n",
      "11/11 [==============================] - ETA: 0s - loss: 0.3334 - categorical_accuracy: 0.8597\n",
      "Epoch 00030: saving model to model_init_conv3d_2023-01-0916_31_32.003741/model-epoch_00030-loss_0.33-categorical_accuracy_0.86-val_loss_0.71-val_categorical_accuracy_0.79.h5\n",
      "\n",
      "Epoch 00030: ReduceLROnPlateau reducing learning rate to 1.5625000742147677e-05.\n",
      "11/11 [==============================] - 94s 9s/step - loss: 0.3334 - categorical_accuracy: 0.8597 - val_loss: 0.7139 - val_categorical_accuracy: 0.7900 - lr: 3.1250e-05\n"
     ]
    },
    {
     "data": {
      "text/plain": [
       "<keras.callbacks.History at 0x7fba0bff81f0>"
      ]
     },
     "execution_count": 11,
     "metadata": {},
     "output_type": "execute_result"
    }
   ],
   "source": [
    "model.fit(train_generator, steps_per_epoch=steps_per_epoch, epochs=num_epochs, verbose=1, \n",
    "          callbacks=callbacks_list, validation_data=val_generator, \n",
    "          validation_steps=validation_steps, class_weight=None, workers=1, initial_epoch=0)"
   ]
  },
  {
   "cell_type": "code",
   "execution_count": null,
   "metadata": {},
   "outputs": [],
   "source": []
  },
  {
   "cell_type": "code",
   "execution_count": null,
   "metadata": {},
   "outputs": [],
   "source": []
  }
 ],
 "metadata": {
  "kernelspec": {
   "display_name": "Python 3 (ipykernel)",
   "language": "python",
   "name": "python3"
  },
  "language_info": {
   "codemirror_mode": {
    "name": "ipython",
    "version": 3
   },
   "file_extension": ".py",
   "mimetype": "text/x-python",
   "name": "python",
   "nbconvert_exporter": "python",
   "pygments_lexer": "ipython3",
   "version": "3.8.10"
  }
 },
 "nbformat": 4,
 "nbformat_minor": 4
}
